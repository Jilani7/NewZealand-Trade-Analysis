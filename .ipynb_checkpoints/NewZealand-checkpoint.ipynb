{
 "cells": [
  {
   "cell_type": "markdown",
   "metadata": {},
   "source": [
    "# Data Loading, Pre-Processing and Cleaning"
   ]
  },
  {
   "cell_type": "code",
   "execution_count": 56,
   "metadata": {},
   "outputs": [],
   "source": [
    "# importing helpful files\n",
    "import numpy as np\n",
    "import pandas as pd"
   ]
  },
  {
   "cell_type": "code",
   "execution_count": 277,
   "metadata": {},
   "outputs": [],
   "source": [
    "csv_data = pd.read_csv(\"csv_file/covid-trade-2020.csv\")"
   ]
  },
  {
   "cell_type": "code",
   "execution_count": 278,
   "metadata": {},
   "outputs": [
    {
     "data": {
      "text/html": [
       "<div>\n",
       "<style scoped>\n",
       "    .dataframe tbody tr th:only-of-type {\n",
       "        vertical-align: middle;\n",
       "    }\n",
       "\n",
       "    .dataframe tbody tr th {\n",
       "        vertical-align: top;\n",
       "    }\n",
       "\n",
       "    .dataframe thead th {\n",
       "        text-align: right;\n",
       "    }\n",
       "</style>\n",
       "<table border=\"1\" class=\"dataframe\">\n",
       "  <thead>\n",
       "    <tr style=\"text-align: right;\">\n",
       "      <th></th>\n",
       "      <th>Direction</th>\n",
       "      <th>Year</th>\n",
       "      <th>Date</th>\n",
       "      <th>Weekday</th>\n",
       "      <th>Current_Match</th>\n",
       "      <th>Country</th>\n",
       "      <th>Commodity</th>\n",
       "      <th>Transport_Mode</th>\n",
       "      <th>Measure</th>\n",
       "      <th>Value</th>\n",
       "      <th>Cumulative</th>\n",
       "    </tr>\n",
       "  </thead>\n",
       "  <tbody>\n",
       "    <tr>\n",
       "      <th>0</th>\n",
       "      <td>Exports</td>\n",
       "      <td>2015</td>\n",
       "      <td>31/01/2015</td>\n",
       "      <td>Saturday</td>\n",
       "      <td>1/02/2020</td>\n",
       "      <td>All</td>\n",
       "      <td>All</td>\n",
       "      <td>All</td>\n",
       "      <td>$</td>\n",
       "      <td>257000000</td>\n",
       "      <td>257000000</td>\n",
       "    </tr>\n",
       "    <tr>\n",
       "      <th>1</th>\n",
       "      <td>Exports</td>\n",
       "      <td>2015</td>\n",
       "      <td>1/02/2015</td>\n",
       "      <td>Sunday</td>\n",
       "      <td>2/02/2020</td>\n",
       "      <td>All</td>\n",
       "      <td>All</td>\n",
       "      <td>All</td>\n",
       "      <td>$</td>\n",
       "      <td>123000000</td>\n",
       "      <td>380000000</td>\n",
       "    </tr>\n",
       "    <tr>\n",
       "      <th>2</th>\n",
       "      <td>Exports</td>\n",
       "      <td>2015</td>\n",
       "      <td>2/02/2015</td>\n",
       "      <td>Monday</td>\n",
       "      <td>3/02/2020</td>\n",
       "      <td>All</td>\n",
       "      <td>All</td>\n",
       "      <td>All</td>\n",
       "      <td>$</td>\n",
       "      <td>176000000</td>\n",
       "      <td>556000000</td>\n",
       "    </tr>\n",
       "    <tr>\n",
       "      <th>3</th>\n",
       "      <td>Exports</td>\n",
       "      <td>2015</td>\n",
       "      <td>3/02/2015</td>\n",
       "      <td>Tuesday</td>\n",
       "      <td>4/02/2020</td>\n",
       "      <td>All</td>\n",
       "      <td>All</td>\n",
       "      <td>All</td>\n",
       "      <td>$</td>\n",
       "      <td>115000000</td>\n",
       "      <td>671000000</td>\n",
       "    </tr>\n",
       "    <tr>\n",
       "      <th>4</th>\n",
       "      <td>Exports</td>\n",
       "      <td>2015</td>\n",
       "      <td>4/02/2015</td>\n",
       "      <td>Wednesday</td>\n",
       "      <td>5/02/2020</td>\n",
       "      <td>All</td>\n",
       "      <td>All</td>\n",
       "      <td>All</td>\n",
       "      <td>$</td>\n",
       "      <td>74000000</td>\n",
       "      <td>746000000</td>\n",
       "    </tr>\n",
       "    <tr>\n",
       "      <th>5</th>\n",
       "      <td>Exports</td>\n",
       "      <td>2015</td>\n",
       "      <td>5/02/2015</td>\n",
       "      <td>Thursday</td>\n",
       "      <td>6/02/2020</td>\n",
       "      <td>All</td>\n",
       "      <td>All</td>\n",
       "      <td>All</td>\n",
       "      <td>$</td>\n",
       "      <td>119000000</td>\n",
       "      <td>864000000</td>\n",
       "    </tr>\n",
       "    <tr>\n",
       "      <th>6</th>\n",
       "      <td>Exports</td>\n",
       "      <td>2015</td>\n",
       "      <td>6/02/2015</td>\n",
       "      <td>Friday</td>\n",
       "      <td>7/02/2020</td>\n",
       "      <td>All</td>\n",
       "      <td>All</td>\n",
       "      <td>All</td>\n",
       "      <td>$</td>\n",
       "      <td>127000000</td>\n",
       "      <td>992000000</td>\n",
       "    </tr>\n",
       "    <tr>\n",
       "      <th>7</th>\n",
       "      <td>Exports</td>\n",
       "      <td>2015</td>\n",
       "      <td>7/02/2015</td>\n",
       "      <td>Saturday</td>\n",
       "      <td>8/02/2020</td>\n",
       "      <td>All</td>\n",
       "      <td>All</td>\n",
       "      <td>All</td>\n",
       "      <td>$</td>\n",
       "      <td>206000000</td>\n",
       "      <td>1198000000</td>\n",
       "    </tr>\n",
       "    <tr>\n",
       "      <th>8</th>\n",
       "      <td>Exports</td>\n",
       "      <td>2015</td>\n",
       "      <td>8/02/2015</td>\n",
       "      <td>Sunday</td>\n",
       "      <td>9/02/2020</td>\n",
       "      <td>All</td>\n",
       "      <td>All</td>\n",
       "      <td>All</td>\n",
       "      <td>$</td>\n",
       "      <td>114000000</td>\n",
       "      <td>1312000000</td>\n",
       "    </tr>\n",
       "    <tr>\n",
       "      <th>9</th>\n",
       "      <td>Exports</td>\n",
       "      <td>2015</td>\n",
       "      <td>9/02/2015</td>\n",
       "      <td>Monday</td>\n",
       "      <td>10/02/2020</td>\n",
       "      <td>All</td>\n",
       "      <td>All</td>\n",
       "      <td>All</td>\n",
       "      <td>$</td>\n",
       "      <td>202000000</td>\n",
       "      <td>1513000000</td>\n",
       "    </tr>\n",
       "  </tbody>\n",
       "</table>\n",
       "</div>"
      ],
      "text/plain": [
       "  Direction  Year        Date    Weekday Current_Match Country Commodity  \\\n",
       "0   Exports  2015  31/01/2015   Saturday     1/02/2020     All       All   \n",
       "1   Exports  2015   1/02/2015     Sunday     2/02/2020     All       All   \n",
       "2   Exports  2015   2/02/2015     Monday     3/02/2020     All       All   \n",
       "3   Exports  2015   3/02/2015    Tuesday     4/02/2020     All       All   \n",
       "4   Exports  2015   4/02/2015  Wednesday     5/02/2020     All       All   \n",
       "5   Exports  2015   5/02/2015   Thursday     6/02/2020     All       All   \n",
       "6   Exports  2015   6/02/2015     Friday     7/02/2020     All       All   \n",
       "7   Exports  2015   7/02/2015   Saturday     8/02/2020     All       All   \n",
       "8   Exports  2015   8/02/2015     Sunday     9/02/2020     All       All   \n",
       "9   Exports  2015   9/02/2015     Monday    10/02/2020     All       All   \n",
       "\n",
       "  Transport_Mode Measure      Value  Cumulative  \n",
       "0            All       $  257000000   257000000  \n",
       "1            All       $  123000000   380000000  \n",
       "2            All       $  176000000   556000000  \n",
       "3            All       $  115000000   671000000  \n",
       "4            All       $   74000000   746000000  \n",
       "5            All       $  119000000   864000000  \n",
       "6            All       $  127000000   992000000  \n",
       "7            All       $  206000000  1198000000  \n",
       "8            All       $  114000000  1312000000  \n",
       "9            All       $  202000000  1513000000  "
      ]
     },
     "execution_count": 278,
     "metadata": {},
     "output_type": "execute_result"
    }
   ],
   "source": [
    "csv_data.head(10)"
   ]
  },
  {
   "cell_type": "code",
   "execution_count": 58,
   "metadata": {},
   "outputs": [
    {
     "data": {
      "text/plain": [
       "(15705, 11)"
      ]
     },
     "execution_count": 58,
     "metadata": {},
     "output_type": "execute_result"
    }
   ],
   "source": [
    "csv_data.shape"
   ]
  },
  {
   "cell_type": "markdown",
   "metadata": {},
   "source": [
    "# Summary statistics\n",
    "csv_data.describe()"
   ]
  },
  {
   "cell_type": "code",
   "execution_count": 60,
   "metadata": {},
   "outputs": [
    {
     "data": {
      "text/plain": [
       "Index(['Direction', 'Year', 'Date', 'Weekday', 'Current_Match', 'Country',\n",
       "       'Commodity', 'Transport_Mode', 'Measure', 'Value', 'Cumulative'],\n",
       "      dtype='object')"
      ]
     },
     "execution_count": 60,
     "metadata": {},
     "output_type": "execute_result"
    }
   ],
   "source": [
    "# Viewing the columns in the dataset\n",
    "csv_data.columns"
   ]
  },
  {
   "cell_type": "code",
   "execution_count": 61,
   "metadata": {},
   "outputs": [
    {
     "data": {
      "text/plain": [
       "Direction         object\n",
       "Year               int64\n",
       "Date              object\n",
       "Weekday           object\n",
       "Current_Match     object\n",
       "Country           object\n",
       "Commodity         object\n",
       "Transport_Mode    object\n",
       "Measure           object\n",
       "Value              int64\n",
       "Cumulative         int64\n",
       "dtype: object"
      ]
     },
     "execution_count": 61,
     "metadata": {},
     "output_type": "execute_result"
    }
   ],
   "source": [
    "# Viewing the dataset of each column\n",
    "csv_data.dtypes"
   ]
  },
  {
   "cell_type": "code",
   "execution_count": 64,
   "metadata": {},
   "outputs": [
    {
     "data": {
      "text/plain": [
       "Direction         0\n",
       "Year              0\n",
       "Date              0\n",
       "Weekday           0\n",
       "Current_Match     0\n",
       "Country           0\n",
       "Commodity         0\n",
       "Transport_Mode    0\n",
       "Measure           0\n",
       "Value             0\n",
       "Cumulative        0\n",
       "dtype: int64"
      ]
     },
     "execution_count": 64,
     "metadata": {},
     "output_type": "execute_result"
    }
   ],
   "source": [
    "csv_data.isnull().sum(axis = 0)"
   ]
  },
  {
   "cell_type": "code",
   "execution_count": 70,
   "metadata": {},
   "outputs": [
    {
     "data": {
      "text/plain": [
       "{'whiskers': [<matplotlib.lines.Line2D at 0x7f31fda19110>,\n",
       "  <matplotlib.lines.Line2D at 0x7f31fda196d0>],\n",
       " 'caps': [<matplotlib.lines.Line2D at 0x7f31fda19bd0>,\n",
       "  <matplotlib.lines.Line2D at 0x7f31fda08250>],\n",
       " 'boxes': [<matplotlib.lines.Line2D at 0x7f31fda134d0>],\n",
       " 'medians': [<matplotlib.lines.Line2D at 0x7f31fd9a1690>],\n",
       " 'fliers': [<matplotlib.lines.Line2D at 0x7f31fd9a1b90>],\n",
       " 'means': []}"
      ]
     },
     "execution_count": 70,
     "metadata": {},
     "output_type": "execute_result"
    },
    {
     "data": {
      "image/png": "[encoded data removed]",
      "text/plain": [
       "<Figure size 432x288 with 1 Axes>"
      ]
     },
     "metadata": {
      "needs_background": "light"
     },
     "output_type": "display_data"
    }
   ],
   "source": [
    "# Plotting the boxplot to view the exceptionally out of boundaries values\n",
    "\n",
    "import matplotlib.pyplot as plt \n",
    "plt.boxplot(csv_data['Cumulative'])"
   ]
  },
  {
   "cell_type": "code",
   "execution_count": 69,
   "metadata": {},
   "outputs": [
    {
     "data": {
      "text/plain": [
       "{'whiskers': [<matplotlib.lines.Line2D at 0x7f31fda27990>,\n",
       "  <matplotlib.lines.Line2D at 0x7f31fda27f50>],\n",
       " 'caps': [<matplotlib.lines.Line2D at 0x7f31fda2e490>,\n",
       "  <matplotlib.lines.Line2D at 0x7f31fda2e990>],\n",
       " 'boxes': [<matplotlib.lines.Line2D at 0x7f31fda1cd50>],\n",
       " 'medians': [<matplotlib.lines.Line2D at 0x7f31fda2eed0>],\n",
       " 'fliers': [<matplotlib.lines.Line2D at 0x7f31fda1cd90>],\n",
       " 'means': []}"
      ]
     },
     "execution_count": 69,
     "metadata": {},
     "output_type": "execute_result"
    },
    {
     "data": {
      "image/png": "[encoded data removed]",
      "text/plain": [
       "<Figure size 432x288 with 1 Axes>"
      ]
     },
     "metadata": {
      "needs_background": "light"
     },
     "output_type": "display_data"
    }
   ],
   "source": [
    "plt.boxplot(csv_data['Value'])"
   ]
  },
  {
   "cell_type": "markdown",
   "metadata": {},
   "source": [
    "### As most of the values forming clusters thats why they are not forming any outliers values"
   ]
  },
  {
   "cell_type": "markdown",
   "metadata": {},
   "source": [
    "# Data Analysis And Visualization"
   ]
  },
  {
   "cell_type": "code",
   "execution_count": 279,
   "metadata": {},
   "outputs": [
    {
     "name": "stderr",
     "output_type": "stream",
     "text": [
      "/home/jillani/anaconda3/lib/python3.7/site-packages/ipykernel_launcher.py:3: FutureWarning: Indexing with multiple keys (implicitly converted to a tuple of keys) will be deprecated, use a list instead.\n",
      "  This is separate from the ipykernel package so we can avoid doing imports until\n"
     ]
    }
   ],
   "source": [
    "# Grouping by 'Year','Country', 'Direction', 'Transport_Mode' to filter out lot of rows and see the trade trends\n",
    "\n",
    "updated_csv = csv_data.groupby(['Year','Country', 'Direction', 'Transport_Mode'], as_index=False)['Value', 'Cumulative'].sum()\n"
   ]
  },
  {
   "cell_type": "code",
   "execution_count": 187,
   "metadata": {},
   "outputs": [
    {
     "data": {
      "text/html": [
       "<div>\n",
       "<style scoped>\n",
       "    .dataframe tbody tr th:only-of-type {\n",
       "        vertical-align: middle;\n",
       "    }\n",
       "\n",
       "    .dataframe tbody tr th {\n",
       "        vertical-align: top;\n",
       "    }\n",
       "\n",
       "    .dataframe thead th {\n",
       "        text-align: right;\n",
       "    }\n",
       "</style>\n",
       "<table border=\"1\" class=\"dataframe\">\n",
       "  <thead>\n",
       "    <tr style=\"text-align: right;\">\n",
       "      <th></th>\n",
       "      <th>Year</th>\n",
       "      <th>Country</th>\n",
       "      <th>Direction</th>\n",
       "      <th>Transport_Mode</th>\n",
       "      <th>Value</th>\n",
       "      <th>Cumulative</th>\n",
       "    </tr>\n",
       "  </thead>\n",
       "  <tbody>\n",
       "    <tr>\n",
       "      <th>0</th>\n",
       "      <td>2015</td>\n",
       "      <td>All</td>\n",
       "      <td>Exports</td>\n",
       "      <td>Air</td>\n",
       "      <td>1160000000</td>\n",
       "      <td>45615000000</td>\n",
       "    </tr>\n",
       "    <tr>\n",
       "      <th>1</th>\n",
       "      <td>2015</td>\n",
       "      <td>All</td>\n",
       "      <td>Exports</td>\n",
       "      <td>All</td>\n",
       "      <td>20001470000</td>\n",
       "      <td>768720942000</td>\n",
       "    </tr>\n",
       "    <tr>\n",
       "      <th>2</th>\n",
       "      <td>2015</td>\n",
       "      <td>All</td>\n",
       "      <td>Exports</td>\n",
       "      <td>Sea</td>\n",
       "      <td>9907000000</td>\n",
       "      <td>379854000000</td>\n",
       "    </tr>\n",
       "    <tr>\n",
       "      <th>3</th>\n",
       "      <td>2015</td>\n",
       "      <td>All</td>\n",
       "      <td>Imports</td>\n",
       "      <td>Air</td>\n",
       "      <td>2313000000</td>\n",
       "      <td>85661000000</td>\n",
       "    </tr>\n",
       "    <tr>\n",
       "      <th>4</th>\n",
       "      <td>2015</td>\n",
       "      <td>All</td>\n",
       "      <td>Imports</td>\n",
       "      <td>All</td>\n",
       "      <td>19685000000</td>\n",
       "      <td>750216000000</td>\n",
       "    </tr>\n",
       "    <tr>\n",
       "      <th>5</th>\n",
       "      <td>2015</td>\n",
       "      <td>All</td>\n",
       "      <td>Imports</td>\n",
       "      <td>Sea</td>\n",
       "      <td>7713000000</td>\n",
       "      <td>297272000000</td>\n",
       "    </tr>\n",
       "    <tr>\n",
       "      <th>6</th>\n",
       "      <td>2015</td>\n",
       "      <td>All</td>\n",
       "      <td>Reimports</td>\n",
       "      <td>All</td>\n",
       "      <td>42000000</td>\n",
       "      <td>1968000000</td>\n",
       "    </tr>\n",
       "    <tr>\n",
       "      <th>7</th>\n",
       "      <td>2015</td>\n",
       "      <td>Australia</td>\n",
       "      <td>Exports</td>\n",
       "      <td>All</td>\n",
       "      <td>1731000000</td>\n",
       "      <td>66388000000</td>\n",
       "    </tr>\n",
       "    <tr>\n",
       "      <th>8</th>\n",
       "      <td>2015</td>\n",
       "      <td>Australia</td>\n",
       "      <td>Imports</td>\n",
       "      <td>All</td>\n",
       "      <td>1250000000</td>\n",
       "      <td>49013000000</td>\n",
       "    </tr>\n",
       "    <tr>\n",
       "      <th>9</th>\n",
       "      <td>2015</td>\n",
       "      <td>China</td>\n",
       "      <td>Exports</td>\n",
       "      <td>All</td>\n",
       "      <td>3208068000</td>\n",
       "      <td>124313132000</td>\n",
       "    </tr>\n",
       "  </tbody>\n",
       "</table>\n",
       "</div>"
      ],
      "text/plain": [
       "   Year    Country  Direction Transport_Mode        Value    Cumulative\n",
       "0  2015        All    Exports            Air   1160000000   45615000000\n",
       "1  2015        All    Exports            All  20001470000  768720942000\n",
       "2  2015        All    Exports            Sea   9907000000  379854000000\n",
       "3  2015        All    Imports            Air   2313000000   85661000000\n",
       "4  2015        All    Imports            All  19685000000  750216000000\n",
       "5  2015        All    Imports            Sea   7713000000  297272000000\n",
       "6  2015        All  Reimports            All     42000000    1968000000\n",
       "7  2015  Australia    Exports            All   1731000000   66388000000\n",
       "8  2015  Australia    Imports            All   1250000000   49013000000\n",
       "9  2015      China    Exports            All   3208068000  124313132000"
      ]
     },
     "execution_count": 187,
     "metadata": {},
     "output_type": "execute_result"
    }
   ],
   "source": [
    "updated_csv.head(10)"
   ]
  },
  {
   "cell_type": "code",
   "execution_count": 262,
   "metadata": {},
   "outputs": [
    {
     "data": {
      "text/plain": [
       "(96, 6)"
      ]
     },
     "execution_count": 262,
     "metadata": {},
     "output_type": "execute_result"
    }
   ],
   "source": [
    "# Lets check the again shape. Now it should have reduced\n",
    "\n",
    "updated_csv.shape"
   ]
  },
  {
   "cell_type": "code",
   "execution_count": 263,
   "metadata": {},
   "outputs": [
    {
     "data": {
      "text/plain": [
       "<matplotlib.axes._subplots.AxesSubplot at 0x7f31e15d33d0>"
      ]
     },
     "execution_count": 263,
     "metadata": {},
     "output_type": "execute_result"
    },
    {
     "data": {
      "image/png": "[encoded data removed]",
      "text/plain": [
       "<Figure size 576x360 with 1 Axes>"
      ]
     },
     "metadata": {
      "needs_background": "light"
     },
     "output_type": "display_data"
    }
   ],
   "source": [
    "# Seeing for which counteries Export and Imports are mostly done\n",
    "\n",
    "plt.rcParams[\"figure.figsize\"] = (8,5)\n",
    "updated_csv.plot.scatter(x = 'Direction', y = 'Country', c = 'blue')"
   ]
  },
  {
   "cell_type": "code",
   "execution_count": 264,
   "metadata": {},
   "outputs": [
    {
     "data": {
      "text/plain": [
       "<matplotlib.axes._subplots.AxesSubplot at 0x7f31e1522950>"
      ]
     },
     "execution_count": 264,
     "metadata": {},
     "output_type": "execute_result"
    },
    {
     "data": {
      "image/png": "[encoded data removed]",
      "text/plain": [
       "<Figure size 576x360 with 1 Axes>"
      ]
     },
     "metadata": {
      "needs_background": "light"
     },
     "output_type": "display_data"
    }
   ],
   "source": [
    "# Plotting the year vs Value to look for the trend in each year\n",
    "\n",
    "pltdata:image/png;base64,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.rcParams[\"figure.figsize\"] = (8,5)\n",
    "updated_csv.plot.scatter(x = 'Year', y = 'Value', c = 'blue')"
   ]
  },
  {
   "cell_type": "code",
   "execution_count": 265,
   "metadata": {},
   "outputs": [
    {
     "data": {
      "text/plain": [
       "[<matplotlib.lines.Line2D at 0x7f31e14b9f90>]"
      ]
     },
     "execution_count": 265,
     "metadata": {},
     "output_type": "execute_result"
    },
    {
     "data": {
      "image/png": "[encoded data removed]",
      "text/plain": [
       "<Figure size 720x360 with 1 Axes>"
      ]
     },
     "metadata": {
      "needs_background": "light"
     },
     "output_type": "display_data"
    }
   ],
   "source": [
    "plt.rcParams[\"figure.figsize\"] = (10,5)\n",
    "plt.plot(updated_csv['Year'], updated_csv['Value'])\n"
   ]
  },
  {
   "cell_type": "markdown",
   "metadata": {},
   "source": [
    "### Here in above graph you can see, just when the trade values are going upward from 2016-2019; 2020 is showing relatively downward trend of trade."
   ]
  },
  {
   "cell_type": "markdown",
   "metadata": {},
   "source": [
    "# Analysis of how much imports and exports effected in covid-19"
   ]
  },
  {
   "cell_type": "code",
   "execution_count": 266,
   "metadata": {},
   "outputs": [
    {
     "data": {
      "text/plain": [
       "(18, 2)"
      ]
     },
     "execution_count": 266,
     "metadata": {},
     "output_type": "execute_result"
    }
   ],
   "source": [
    "# Analysis of data and view the Exports and Imports seperately\n",
    "\n",
    "new_data = updated_csv.groupby(['Direction', 'Year']).sum()\n",
    "new_data.shape"
   ]
  },
  {
   "cell_type": "code",
   "execution_count": 267,
   "metadata": {},
   "outputs": [
    {
     "data": {
      "text/html": [
       "<div>\n",
       "<style scoped>\n",
       "    .dataframe tbody tr th:only-of-type {\n",
       "        vertical-align: middle;\n",
       "    }\n",
       "\n",
       "    .dataframe tbody tr th {\n",
       "        vertical-align: top;\n",
       "    }\n",
       "\n",
       "    .dataframe thead th {\n",
       "        text-align: right;\n",
       "    }\n",
       "</style>\n",
       "<table border=\"1\" class=\"dataframe\">\n",
       "  <thead>\n",
       "    <tr style=\"text-align: right;\">\n",
       "      <th></th>\n",
       "      <th></th>\n",
       "      <th>Value</th>\n",
       "      <th>Cumulative</th>\n",
       "    </tr>\n",
       "    <tr>\n",
       "      <th>Direction</th>\n",
       "      <th>Year</th>\n",
       "      <th></th>\n",
       "      <th></th>\n",
       "    </tr>\n",
       "  </thead>\n",
       "  <tbody>\n",
       "    <tr>\n",
       "      <th rowspan=\"6\" valign=\"top\">Exports</th>\n",
       "      <th>2015</th>\n",
       "      <td>51467613000</td>\n",
       "      <td>1977950013000</td>\n",
       "    </tr>\n",
       "    <tr>\n",
       "      <th>2016</th>\n",
       "      <td>49349520000</td>\n",
       "      <td>1925267563000</td>\n",
       "    </tr>\n",
       "    <tr>\n",
       "      <th>2017</th>\n",
       "      <td>51662703000</td>\n",
       "      <td>1929631086000</td>\n",
       "    </tr>\n",
       "    <tr>\n",
       "      <th>2018</th>\n",
       "      <td>54289917000</td>\n",
       "      <td>2049475040000</td>\n",
       "    </tr>\n",
       "    <tr>\n",
       "      <th>2019</th>\n",
       "      <td>62240144000</td>\n",
       "      <td>2260043304000</td>\n",
       "    </tr>\n",
       "    <tr>\n",
       "      <th>2020</th>\n",
       "      <td>58930744000</td>\n",
       "      <td>2205408981000</td>\n",
       "    </tr>\n",
       "    <tr>\n",
       "      <th rowspan=\"6\" valign=\"top\">Imports</th>\n",
       "      <th>2015</th>\n",
       "      <td>33435000000</td>\n",
       "      <td>1280945000000</td>\n",
       "    </tr>\n",
       "    <tr>\n",
       "      <th>2016</th>\n",
       "      <td>33199000000</td>\n",
       "      <td>1242569000000</td>\n",
       "    </tr>\n",
       "    <tr>\n",
       "      <th>2017</th>\n",
       "      <td>35078000000</td>\n",
       "      <td>1303492000000</td>\n",
       "    </tr>\n",
       "    <tr>\n",
       "      <th>2018</th>\n",
       "      <td>38506000000</td>\n",
       "      <td>1419453000000</td>\n",
       "    </tr>\n",
       "    <tr>\n",
       "      <th>2019</th>\n",
       "      <td>41920000000</td>\n",
       "      <td>1539309000000</td>\n",
       "    </tr>\n",
       "    <tr>\n",
       "      <th>2020</th>\n",
       "      <td>38174000000</td>\n",
       "      <td>1463607000000</td>\n",
       "    </tr>\n",
       "    <tr>\n",
       "      <th rowspan=\"6\" valign=\"top\">Reimports</th>\n",
       "      <th>2015</th>\n",
       "      <td>42000000</td>\n",
       "      <td>1968000000</td>\n",
       "    </tr>\n",
       "    <tr>\n",
       "      <th>2016</th>\n",
       "      <td>42000000</td>\n",
       "      <td>1556000000</td>\n",
       "    </tr>\n",
       "    <tr>\n",
       "      <th>2017</th>\n",
       "      <td>30000000</td>\n",
       "      <td>1182000000</td>\n",
       "    </tr>\n",
       "    <tr>\n",
       "      <th>2018</th>\n",
       "      <td>35000000</td>\n",
       "      <td>1370000000</td>\n",
       "    </tr>\n",
       "    <tr>\n",
       "      <th>2019</th>\n",
       "      <td>38000000</td>\n",
       "      <td>1368000000</td>\n",
       "    </tr>\n",
       "    <tr>\n",
       "      <th>2020</th>\n",
       "      <td>32000000</td>\n",
       "      <td>1365000000</td>\n",
       "    </tr>\n",
       "  </tbody>\n",
       "</table>\n",
       "</div>"
      ],
      "text/plain": [
       "                      Value     Cumulative\n",
       "Direction Year                            \n",
       "Exports   2015  51467613000  1977950013000\n",
       "          2016  49349520000  1925267563000\n",
       "          2017  51662703000  1929631086000\n",
       "          2018  54289917000  2049475040000\n",
       "          2019  62240144000  2260043304000\n",
       "          2020  58930744000  2205408981000\n",
       "Imports   2015  33435000000  1280945000000\n",
       "          2016  33199000000  1242569000000\n",
       "          2017  35078000000  1303492000000\n",
       "          2018  38506000000  1419453000000\n",
       "          2019  41920000000  1539309000000\n",
       "          2020  38174000000  1463607000000\n",
       "Reimports 2015     42000000     1968000000\n",
       "          2016     42000000     1556000000\n",
       "          2017     30000000     1182000000\n",
       "          2018     35000000     1370000000\n",
       "          2019     38000000     1368000000\n",
       "          2020     32000000     1365000000"
      ]
     },
     "execution_count": 267,
     "metadata": {},
     "output_type": "execute_result"
    }
   ],
   "source": [
    "new_data.head(18)"
   ]
  },
  {
   "cell_type": "code",
   "execution_count": 268,
   "metadata": {},
   "outputs": [
    {
     "data": {
      "text/plain": [
       "<matplotlib.legend.Legend at 0x7f31e1522790>"
      ]
     },
     "execution_count": 268,
     "metadata": {},
     "output_type": "execute_result"
    },
    {
     "data": {
      "image/png": "[encoded data removed]",
      "text/plain": [
       "<Figure size 720x360 with 1 Axes>"
      ]
     },
     "metadata": {
      "needs_background": "light"
     },
     "output_type": "display_data"
    }
   ],
   "source": [
    "new_data.loc['Imports'].diff().plot()\n",
    "plt.legend()"
   ]
  },
  {
   "cell_type": "code",
   "execution_count": 269,
   "metadata": {},
   "outputs": [
    {
     "data": {
      "text/plain": [
       "<matplotlib.legend.Legend at 0x7f31e14c58d0>"
      ]
     },
     "execution_count": 269,
     "metadata": {},
     "output_type": "execute_result"
    },
    {
     "data": {
      "image/png": "[encoded data removed]",
      "text/plain": [
       "<Figure size 720x360 with 1 Axes>"
      ]
     },
     "metadata": {
      "needs_background": "light"
     },
     "output_type": "display_data"
    }
   ],
   "source": [
    "new_data.loc['Exports'].diff().plot()\n",
    "plt.legend()"
   ]
  },
  {
   "cell_type": "code",
   "execution_count": 270,
   "metadata": {},
   "outputs": [
    {
     "data": {
      "text/plain": [
       "<matplotlib.legend.Legend at 0x7f31e13600d0>"
      ]
     },
     "execution_count": 270,
     "metadata": {},
     "output_type": "execute_result"
    },
    {
     "data": {
      "image/png": "[encoded data removed]",
      "text/plain": [
       "<Figure size 720x360 with 1 Axes>"
      ]
     },
     "metadata": {
      "needs_background": "light"
     },
     "output_type": "display_data"
    }
   ],
   "source": [
    "new_data.loc['Reimports'].diff().plot()\n",
    "plt.legend()"
   ]
  },
  {
   "cell_type": "markdown",
   "metadata": {},
   "source": [
    "# Analysis on the basis of transport mode how transport effects the trade in Covid-19"
   ]
  },
  {
   "cell_type": "code",
   "execution_count": 271,
   "metadata": {},
   "outputs": [
    {
     "data": {
      "text/plain": [
       "(18, 2)"
      ]
     },
     "execution_count": 271,
     "metadata": {},
     "output_type": "execute_result"
    }
   ],
   "source": [
    "# Analysis of data how transport_mode effected the trade\n",
    "\n",
    "transport_data = updated_csv.groupby(['Transport_Mode', 'Year']).sum()\n",
    "transport_data.shape"
   ]
  },
  {
   "cell_type": "code",
   "execution_count": 272,
   "metadata": {},
   "outputs": [
    {
     "data": {
      "text/html": [
       "<div>\n",
       "<style scoped>\n",
       "    .dataframe tbody tr th:only-of-type {\n",
       "        vertical-align: middle;\n",
       "    }\n",
       "\n",
       "    .dataframe tbody tr th {\n",
       "        vertical-align: top;\n",
       "    }\n",
       "\n",
       "    .dataframe thead th {\n",
       "        text-align: right;\n",
       "    }\n",
       "</style>\n",
       "<table border=\"1\" class=\"dataframe\">\n",
       "  <thead>\n",
       "    <tr style=\"text-align: right;\">\n",
       "      <th></th>\n",
       "      <th></th>\n",
       "      <th>Value</th>\n",
       "      <th>Cumulative</th>\n",
       "    </tr>\n",
       "    <tr>\n",
       "      <th>Transport_Mode</th>\n",
       "      <th>Year</th>\n",
       "      <th></th>\n",
       "      <th></th>\n",
       "    </tr>\n",
       "  </thead>\n",
       "  <tbody>\n",
       "    <tr>\n",
       "      <th rowspan=\"6\" valign=\"top\">Air</th>\n",
       "      <th>2015</th>\n",
       "      <td>3473000000</td>\n",
       "      <td>131276000000</td>\n",
       "    </tr>\n",
       "    <tr>\n",
       "      <th>2016</th>\n",
       "      <td>3470000000</td>\n",
       "      <td>130313000000</td>\n",
       "    </tr>\n",
       "    <tr>\n",
       "      <th>2017</th>\n",
       "      <td>3433000000</td>\n",
       "      <td>128866000000</td>\n",
       "    </tr>\n",
       "    <tr>\n",
       "      <th>2018</th>\n",
       "      <td>3693000000</td>\n",
       "      <td>134011000000</td>\n",
       "    </tr>\n",
       "    <tr>\n",
       "      <th>2019</th>\n",
       "      <td>4135000000</td>\n",
       "      <td>149880000000</td>\n",
       "    </tr>\n",
       "    <tr>\n",
       "      <th>2020</th>\n",
       "      <td>3715000000</td>\n",
       "      <td>146820000000</td>\n",
       "    </tr>\n",
       "    <tr>\n",
       "      <th rowspan=\"6\" valign=\"top\">All</th>\n",
       "      <th>2015</th>\n",
       "      <td>63851613000</td>\n",
       "      <td>2452461013000</td>\n",
       "    </tr>\n",
       "    <tr>\n",
       "      <th>2016</th>\n",
       "      <td>62194520000</td>\n",
       "      <td>2390446563000</td>\n",
       "    </tr>\n",
       "    <tr>\n",
       "      <th>2017</th>\n",
       "      <td>65230703000</td>\n",
       "      <td>2429190086000</td>\n",
       "    </tr>\n",
       "    <tr>\n",
       "      <th>2018</th>\n",
       "      <td>69540917000</td>\n",
       "      <td>2601910040000</td>\n",
       "    </tr>\n",
       "    <tr>\n",
       "      <th>2019</th>\n",
       "      <td>78169144000</td>\n",
       "      <td>2850707304000</td>\n",
       "    </tr>\n",
       "    <tr>\n",
       "      <th>2020</th>\n",
       "      <td>72759744000</td>\n",
       "      <td>2748488981000</td>\n",
       "    </tr>\n",
       "    <tr>\n",
       "      <th rowspan=\"6\" valign=\"top\">Sea</th>\n",
       "      <th>2015</th>\n",
       "      <td>17620000000</td>\n",
       "      <td>677126000000</td>\n",
       "    </tr>\n",
       "    <tr>\n",
       "      <th>2016</th>\n",
       "      <td>16926000000</td>\n",
       "      <td>648633000000</td>\n",
       "    </tr>\n",
       "    <tr>\n",
       "      <th>2017</th>\n",
       "      <td>18107000000</td>\n",
       "      <td>676249000000</td>\n",
       "    </tr>\n",
       "    <tr>\n",
       "      <th>2018</th>\n",
       "      <td>19597000000</td>\n",
       "      <td>734377000000</td>\n",
       "    </tr>\n",
       "    <tr>\n",
       "      <th>2019</th>\n",
       "      <td>21894000000</td>\n",
       "      <td>800133000000</td>\n",
       "    </tr>\n",
       "    <tr>\n",
       "      <th>2020</th>\n",
       "      <td>20662000000</td>\n",
       "      <td>775072000000</td>\n",
       "    </tr>\n",
       "  </tbody>\n",
       "</table>\n",
       "</div>"
      ],
      "text/plain": [
       "                           Value     Cumulative\n",
       "Transport_Mode Year                            \n",
       "Air            2015   3473000000   131276000000\n",
       "               2016   3470000000   130313000000\n",
       "               2017   3433000000   128866000000\n",
       "               2018   3693000000   134011000000\n",
       "               2019   4135000000   149880000000\n",
       "               2020   3715000000   146820000000\n",
       "All            2015  63851613000  2452461013000\n",
       "               2016  62194520000  2390446563000\n",
       "               2017  65230703000  2429190086000\n",
       "               2018  69540917000  2601910040000\n",
       "               2019  78169144000  2850707304000\n",
       "               2020  72759744000  2748488981000\n",
       "Sea            2015  17620000000   677126000000\n",
       "               2016  16926000000   648633000000\n",
       "               2017  18107000000   676249000000\n",
       "               2018  19597000000   734377000000\n",
       "               2019  21894000000   800133000000\n",
       "               2020  20662000000   775072000000"
      ]
     },
     "execution_count": 272,
     "metadata": {},
     "output_type": "execute_result"
    }
   ],
   "source": [
    "transport_data.head(18)"
   ]
  },
  {
   "cell_type": "code",
   "execution_count": 276,
   "metadata": {},
   "outputs": [
    {
     "data": {
      "text/plain": [
       "<matplotlib.legend.Legend at 0x7f31e117aed0>"
      ]
     },
     "execution_count": 276,
     "metadata": {},
     "output_type": "execute_result"
    },
    {
     "data": {
      "image/png": "[encoded data removed]",
      "text/plain": [
       "<Figure size 720x360 with 1 Axes>"
      ]
     },
     "metadata": {
      "needs_background": "light"
     },
     "output_type": "display_data"
    }
   ],
   "source": [
    "# Looking how much trade effected by air transport\n",
    "\n",
    "transport_data.loc['Air'].diff().plot()\n",
    "plt.legend()"
   ]
  },
  {
   "cell_type": "code",
   "execution_count": 274,
   "metadata": {},
   "outputs": [
    {
     "data": {
      "text/plain": [
       "<matplotlib.legend.Legend at 0x7f31e1310650>"
      ]
     },
     "execution_count": 274,
     "metadata": {},
     "output_type": "execute_result"
    },
    {
     "data": {
      "image/png": "[encoded data removed]",
      "text/plain": [
       "<Figure size 720x360 with 1 Axes>"
      ]
     },
     "metadata": {
      "needs_background": "light"
     },
     "output_type": "display_data"
    }
   ],
   "source": [
    "transport_data.loc['Sea'].diff().plot()\n",
    "plt.legend()"
   ]
  },
  {
   "cell_type": "code",
   "execution_count": 275,
   "metadata": {},
   "outputs": [
    {
     "data": {
      "text/plain": [
       "<matplotlib.axes._subplots.AxesSubplot at 0x7f31e119ab50>"
      ]
     },
     "execution_count": 275,
     "metadata": {},
     "output_type": "execute_result"
    },
    {
     "data": {
      "image/png": "[encoded data removed]",
      "text/plain": [
       "<Figure size 720x360 with 1 Axes>"
      ]
     },
     "metadata": {
      "needs_background": "light"
     },
     "output_type": "display_data"
    }
   ],
   "source": [
    "transport_data.loc['All'].diff().plot()"
   ]
  },
  {
   "cell_type": "code",
   "execution_count": null,
   "metadata": {},
   "outputs": [],
   "source": []
  },
  {
   "cell_type": "code",
   "execution_count": null,
   "metadata": {},
   "outputs": [],
   "source": []
  }
 ],
 "metadata": {
  "kernelspec": {
   "display_name": "Python 3",
   "language": "python",
   "name": "python3"
  },
  "language_info": {
   "codemirror_mode": {
    "name": "ipython",
    "version": 3
   },
   "file_extension": ".py",
   "mimetype": "text/x-python",
   "name": "python",
   "nbconvert_exporter": "python",
   "pygments_lexer": "ipython3",
   "version": "3.7.6"
  }
 },
 "nbformat": 4,
 "nbformat_minor": 4
}
